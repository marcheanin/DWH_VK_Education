{
 "cells": [
  {
   "cell_type": "code",
   "execution_count": 52,
   "metadata": {},
   "outputs": [
    {
     "data": {
      "text/plain": [
       "'a.marchenko'"
      ]
     },
     "execution_count": 52,
     "metadata": {},
     "output_type": "execute_result"
    }
   ],
   "source": [
    "# task4\n",
    "# Впишите ваш логин. Например \"vpetrov\"\n",
    "user = \"a.marchenko\"\n",
    "user"
   ]
  },
  {
   "cell_type": "code",
   "execution_count": 53,
   "metadata": {},
   "outputs": [],
   "source": [
    "# В данной ячейке параметры не меняем! \n",
    "from pyspark.sql.types import *\n",
    "import pyspark.sql.functions as sf\n",
    "\n",
    "current_dt = \"2023-03-01\"\n",
    "\n",
    "demography_path = \"/user/{}/data3/ok/coreDemography\".format(user)\n",
    "country_path = \"/user/{}/data3/ok/geography/countries.csv\".format(user)\n",
    "\n",
    "city_path = \"/home/a.marchenko/data/data3/rosstat/city.csv\"\n",
    "product_path = \"/home/a.marchenko/data/data3/rosstat/product.csv\"\n",
    "price_path = \"/home/a.marchenko/data/data3/rosstat/price\"\n",
    "products_for_stat_path = \"/home/a.marchenko/data/data3/rosstat/products_for_stat.csv\"\n",
    "city_rs_path = \"/home/a.marchenko/data/data3/ok/geography/rs_city.csv\"\n",
    "\n",
    "# Путь до результата\n",
    "output_path1 = \"/user/{}/task4/price_stat\".format(user)\n",
    "output_path2 = \"/user/{}/task4/ok_dem\".format(user)\n",
    "output_path3 = \"/user/{}/task4/product_stat\".format(user)"
   ]
  },
  {
   "cell_type": "code",
   "execution_count": null,
   "metadata": {},
   "outputs": [
    {
     "name": "stderr",
     "output_type": "stream",
     "text": [
      "24/04/27 15:03:38 WARN Utils: Service 'SparkUI' could not bind on port 4040. Attempting port 4041.\n",
      "24/04/27 15:03:38 WARN Utils: Service 'SparkUI' could not bind on port 4041. Attempting port 4042.\n",
      "24/04/27 15:03:38 WARN Utils: Service 'SparkUI' could not bind on port 4042. Attempting port 4043.\n",
      "24/04/27 15:03:38 WARN Client: Neither spark.yarn.jars nor spark.yarn.archive is set, falling back to uploading libraries under SPARK_HOME.\n"
     ]
    }
   ],
   "source": [
    "import os\n",
    "import pyspark\n",
    "from pyspark import SparkContext, SparkConf\n",
    "from pyspark.sql import SparkSession\n",
    "\n",
    "os.environ[\"HADOOP_CONF_DIR\"]=\"/etc/hadoop/conf\"\n",
    "os.environ[\"HIVE_HOME\"]=\"/usr/lib/hive\"\n",
    "os.environ[\"METASTORE_PORT\"]=\"9083\"\n",
    "# os.environ[\"SPARK_HOME\"]=\"/usr/hdp/current/spark2-client\"\n",
    "# os.environ[\"JAVA_HOME\"]=\"/usr/java/jdk1.8.0_191/jre\"\n",
    "\n",
    "spark = pyspark.sql.SparkSession.builder\\\n",
    "    .master(\"yarn\")\\\n",
    "    .appName(\"a_marchenko_hw\")\\\n",
    "    .config(\"spark.executor.instances\", \"1\")\\\n",
    "    .config(\"spark.executor.memory\", \"1G\")\\\n",
    "    .config(\"spark.executor.cores\", \"2\")\\\n",
    "    .config(\"spark.dynamicAllocation.enabled\", \"false\")\\\n",
    "    .config(\"spark.dynamicAllocation.executorIdleTimeout\", \"300s\")\\\n",
    "    .config(\"spark.dynamicAllocation.maxExecutors\", \"1000\")\\\n",
    "    .config(\"spark.driver.memory\", \"1G\")\\\n",
    "    .config(\"spark.driver.maxResultSize\", \"1G\")\\\n",
    "    .config(\"spark.serializer\", \"org.apache.spark.serializer.KryoSerializer\")\\\n",
    "    .config(\"spark.kryoserializer.buffer.max\", \"1024m\")\\\n",
    "    .enableHiveSupport()\\\n",
    "    .getOrCreate()\n",
    "\n",
    "spark_context = spark.sparkContext"
   ]
  },
  {
   "cell_type": "code",
   "execution_count": null,
   "metadata": {},
   "outputs": [],
   "source": [
    "print(\"\"\"\n",
    "Urls:\n",
    "Yarn       http://91.219.226.252:8088/cluster/scheduler\n",
    "Spark      http://91.219.226.252:8088/proxy/{app_id}/stages/\n",
    "App info   http://91.219.226.252:8088/cluster/app/{app_id}/\n",
    "\"\"\".format(app_id=spark_context.applicationId))"
   ]
  },
  {
   "cell_type": "markdown",
   "metadata": {},
   "source": [
    "### Задание 1"
   ]
  },
  {
   "cell_type": "code",
   "execution_count": 5,
   "metadata": {},
   "outputs": [
    {
     "name": "stderr",
     "output_type": "stream",
     "text": [
      "                                                                                \r"
     ]
    }
   ],
   "source": [
    "# Читаем данные\n",
    "CityDF = (\n",
    "    spark.read\n",
    "        .option(\"header\", \"false\")\n",
    "        .option(\"sep\", \";\")\n",
    "        .csv(city_path)\n",
    ")\n",
    "\n",
    "ProductDF = (\n",
    "    spark.read\n",
    "        .option(\"header\", \"false\")\n",
    "        .option(\"sep\", \";\")\n",
    "        .csv(product_path)\n",
    ")\n",
    "\n",
    "PriceDF = (\n",
    "    spark.read\n",
    "        .option(\"header\", \"false\")\n",
    "        .option(\"sep\", \";\")\n",
    "        .csv(price_path)\n",
    ")\n",
    "\n",
    "ProductsForStatDF = (\n",
    "    spark.read\n",
    "        .option(\"header\", \"false\")\n",
    "        .option(\"sep\", \";\")\n",
    "        .csv(products_for_stat_path)\n",
    ")"
   ]
  },
  {
   "cell_type": "code",
   "execution_count": 6,
   "metadata": {},
   "outputs": [
    {
     "name": "stdout",
     "output_type": "stream",
     "text": [
      "root\n",
      " |-- _c0: string (nullable = true)\n",
      "\n"
     ]
    }
   ],
   "source": [
    "ProductsForStatDF.printSchema()"
   ]
  },
  {
   "cell_type": "code",
   "execution_count": 7,
   "metadata": {},
   "outputs": [
    {
     "name": "stdout",
     "output_type": "stream",
     "text": [
      "+---+\n",
      "|_c0|\n",
      "+---+\n",
      "|355|\n",
      "|446|\n",
      "|114|\n",
      "|115|\n",
      "|117|\n",
      "|108|\n",
      "|341|\n",
      "|120|\n",
      "|113|\n",
      "|449|\n",
      "|454|\n",
      "|453|\n",
      "|448|\n",
      "|396|\n",
      "|397|\n",
      "|456|\n",
      "|455|\n",
      "|458|\n",
      "|457|\n",
      "|326|\n",
      "+---+\n",
      "only showing top 20 rows\n",
      "\n"
     ]
    }
   ],
   "source": [
    "ProductsForStatDF.show()"
   ]
  },
  {
   "cell_type": "code",
   "execution_count": 8,
   "metadata": {},
   "outputs": [],
   "source": [
    "from pyspark.sql.types import FloatType\n",
    "from pyspark.sql.functions import regexp_replace\n",
    "\n",
    "# Приводим типы и задаем названия полей.\n",
    "ProductDF = (\n",
    "    ProductDF\n",
    "    .select(\n",
    "        sf.col(\"_c1\").cast(IntegerType()).alias(\"product_id\"),\n",
    "        sf.col(\"_c0\").alias(\"product\")\n",
    "    )\n",
    ")\n",
    "\n",
    "CityDF = (\n",
    "    CityDF\n",
    "    .select(\n",
    "        sf.col(\"_c1\").cast(IntegerType()).alias(\"city_id\"),\n",
    "        sf.col(\"_c0\").alias(\"city\")\n",
    "    )\n",
    ")\n",
    "\n",
    "PriceDF = PriceDF.withColumn('_c2', regexp_replace('_c2', ',', '.'))\n",
    "\n",
    "PriceDF = (\n",
    "    PriceDF\n",
    "    .select(\n",
    "        sf.col(\"_c0\").cast(IntegerType()).alias(\"city_id\"),\n",
    "        sf.col(\"_c1\").cast(IntegerType()).alias(\"product_id\"),\n",
    "        sf.col(\"_c2\").cast(FloatType()).alias(\"price\")\n",
    "    )\n",
    ")\n",
    "\n",
    "ProductsForStatDF = (\n",
    "    ProductsForStatDF\n",
    "    .select(\n",
    "        sf.col(\"_c0\").cast(IntegerType()).alias(\"product_id\")\n",
    "    )\n",
    ")\n",
    "\n"
   ]
  },
  {
   "cell_type": "code",
   "execution_count": 9,
   "metadata": {},
   "outputs": [
    {
     "name": "stdout",
     "output_type": "stream",
     "text": [
      "root\n",
      " |-- city_id: integer (nullable = true)\n",
      " |-- city: string (nullable = true)\n",
      "\n",
      "+-------+----------------+\n",
      "|city_id|            city|\n",
      "+-------+----------------+\n",
      "|      1|        Белгород|\n",
      "|      2|          Губкин|\n",
      "|      3|    Старый Оскол|\n",
      "|      4|          Брянск|\n",
      "|      5|           Навля|\n",
      "|      6|          Клинцы|\n",
      "|      7|      Новозыбков|\n",
      "|      8|        Владимир|\n",
      "|      9|Гусь-Хрустальный|\n",
      "|     10|          Ковров|\n",
      "|     11|           Муром|\n",
      "|     12|         Воронеж|\n",
      "|     13|    Борисоглебск|\n",
      "|     14|         Россошь|\n",
      "|     15|         Иваново|\n",
      "|     16|         Кинешма|\n",
      "|     17|          Калуга|\n",
      "|     18|        Людиново|\n",
      "|     19|         Обнинск|\n",
      "|     20|        Кострома|\n",
      "+-------+----------------+\n",
      "only showing top 20 rows\n",
      "\n",
      "root\n",
      " |-- product_id: integer (nullable = true)\n",
      " |-- product: string (nullable = true)\n",
      "\n",
      "+----------+--------------------+\n",
      "|product_id|             product|\n",
      "+----------+--------------------+\n",
      "|         1|     Фарш мясной, кг|\n",
      "|         2|Пельмени, манты, ...|\n",
      "|         3|  Печень говяжья, кг|\n",
      "|         4|Говядина (кроме б...|\n",
      "|         5|Говядина бескостн...|\n",
      "|         6|Свинина (кроме бе...|\n",
      "|         7|Свинина бескостна...|\n",
      "|         8|Баранина (кроме б...|\n",
      "|         9|Куры охлажденные ...|\n",
      "|        10|Окорочка куриные, кг|\n",
      "|        11|    Мясо индейки, кг|\n",
      "|        12|Сосиски, сардельк...|\n",
      "|        13|Колбаса полукопче...|\n",
      "|        14|Колбаса сырокопче...|\n",
      "|        15|  Мясокопчености, кг|\n",
      "|        16|Кулинарные издели...|\n",
      "|        17| Колбаса вареная, кг|\n",
      "|        18|Консервы мясные, ...|\n",
      "|        19|Консервы мясные д...|\n",
      "|        20|Рыба живая и охла...|\n",
      "+----------+--------------------+\n",
      "only showing top 20 rows\n",
      "\n",
      "root\n",
      " |-- city_id: integer (nullable = true)\n",
      " |-- product_id: integer (nullable = true)\n",
      " |-- price: float (nullable = true)\n",
      "\n",
      "+-------+----------+-------+\n",
      "|city_id|product_id|  price|\n",
      "+-------+----------+-------+\n",
      "|    193|       437| 529.38|\n",
      "|    126|        34| 684.46|\n",
      "|    274|       416|   NULL|\n",
      "|     41|       338|  12.81|\n",
      "|    103|       399|  250.0|\n",
      "|    107|       319| 513.21|\n",
      "|    162|       478|   NULL|\n",
      "|    133|       402|  155.0|\n",
      "|    223|        41|  81.07|\n",
      "|    127|       208|  495.6|\n",
      "|    277|       179| 752.81|\n",
      "|    213|       216| 164.65|\n",
      "|     93|       270|3982.27|\n",
      "|     11|        66|   NULL|\n",
      "|    174|       376| 219.88|\n",
      "|    114|       486|   NULL|\n",
      "|    237|        82| 106.43|\n",
      "|    224|       287| 374.16|\n",
      "|    227|       502| 389.81|\n",
      "|    122|       241|   NULL|\n",
      "+-------+----------+-------+\n",
      "only showing top 20 rows\n",
      "\n",
      "root\n",
      " |-- product_id: integer (nullable = true)\n",
      "\n",
      "+----------+\n",
      "|product_id|\n",
      "+----------+\n",
      "|       355|\n",
      "|       446|\n",
      "|       114|\n",
      "|       115|\n",
      "|       117|\n",
      "|       108|\n",
      "|       341|\n",
      "|       120|\n",
      "|       113|\n",
      "|       449|\n",
      "|       454|\n",
      "|       453|\n",
      "|       448|\n",
      "|       396|\n",
      "|       397|\n",
      "|       456|\n",
      "|       455|\n",
      "|       458|\n",
      "|       457|\n",
      "|       326|\n",
      "+----------+\n",
      "only showing top 20 rows\n",
      "\n"
     ]
    }
   ],
   "source": [
    "CityDF.printSchema()\n",
    "CityDF.show()\n",
    "\n",
    "ProductDF.printSchema()\n",
    "ProductDF.show()\n",
    "\n",
    "PriceDF.printSchema()\n",
    "PriceDF.show()\n",
    "\n",
    "ProductsForStatDF.printSchema()\n",
    "ProductsForStatDF.show()"
   ]
  },
  {
   "cell_type": "code",
   "execution_count": 10,
   "metadata": {},
   "outputs": [
    {
     "data": {
      "text/plain": [
       "145976"
      ]
     },
     "execution_count": 10,
     "metadata": {},
     "output_type": "execute_result"
    }
   ],
   "source": [
    "PriceDF.count()"
   ]
  },
  {
   "cell_type": "code",
   "execution_count": 11,
   "metadata": {},
   "outputs": [],
   "source": [
    "# Выбираем продукты для статистики \n",
    "PriceJoinedDF = (\n",
    "    PriceDF\n",
    "    .join(ProductsForStatDF, PriceDF.product_id == ProductsForStatDF.product_id, how='inner')\n",
    "        .select(\n",
    "            PriceDF.product_id,\n",
    "            sf.col(\"city_id\"),\n",
    "            sf.col(\"price\")\n",
    "    )\n",
    ")"
   ]
  },
  {
   "cell_type": "code",
   "execution_count": 12,
   "metadata": {},
   "outputs": [
    {
     "name": "stderr",
     "output_type": "stream",
     "text": [
      "                                                                                \r"
     ]
    },
    {
     "data": {
      "text/plain": [
       "131776"
      ]
     },
     "execution_count": 12,
     "metadata": {},
     "output_type": "execute_result"
    }
   ],
   "source": [
    "PriceJoinedDF.count()"
   ]
  },
  {
   "cell_type": "code",
   "execution_count": 13,
   "metadata": {},
   "outputs": [
    {
     "name": "stdout",
     "output_type": "stream",
     "text": [
      "root\n",
      " |-- product_id: integer (nullable = true)\n",
      " |-- city_id: integer (nullable = true)\n",
      " |-- price: float (nullable = true)\n",
      "\n",
      "+----------+-------+-------+\n",
      "|product_id|city_id|  price|\n",
      "+----------+-------+-------+\n",
      "|        34|    126| 684.46|\n",
      "|       416|    274|   NULL|\n",
      "|       338|     41|  12.81|\n",
      "|       399|    103|  250.0|\n",
      "|       319|    107| 513.21|\n",
      "|       478|    162|   NULL|\n",
      "|       402|    133|  155.0|\n",
      "|        41|    223|  81.07|\n",
      "|       208|    127|  495.6|\n",
      "|       179|    277| 752.81|\n",
      "|       216|    213| 164.65|\n",
      "|       270|     93|3982.27|\n",
      "|        66|     11|   NULL|\n",
      "|       376|    174| 219.88|\n",
      "|       486|    114|   NULL|\n",
      "|        82|    237| 106.43|\n",
      "|       287|    224| 374.16|\n",
      "|       502|    227| 389.81|\n",
      "|       241|    122|   NULL|\n",
      "|       233|    145|  64.04|\n",
      "+----------+-------+-------+\n",
      "only showing top 20 rows\n",
      "\n"
     ]
    }
   ],
   "source": [
    "PriceJoinedDF.printSchema()\n",
    "PriceJoinedDF.show()"
   ]
  },
  {
   "cell_type": "code",
   "execution_count": 14,
   "metadata": {},
   "outputs": [],
   "source": [
    "PriceStatDF = (\n",
    "    PriceJoinedDF\n",
    "        .groupBy(\"product_id\")\n",
    "        .agg(sf.max(\"price\").alias(\"max_price\"),\n",
    "            sf.round(sf.avg(\"price\"), 2).alias(\"avg_price\"),\n",
    "            sf.min(\"price\").alias(\"min_price\")\n",
    "            )\n",
    ")"
   ]
  },
  {
   "cell_type": "code",
   "execution_count": 15,
   "metadata": {},
   "outputs": [
    {
     "name": "stdout",
     "output_type": "stream",
     "text": [
      "root\n",
      " |-- product_id: integer (nullable = true)\n",
      " |-- max_price: float (nullable = true)\n",
      " |-- avg_price: double (nullable = true)\n",
      " |-- min_price: float (nullable = true)\n",
      "\n"
     ]
    },
    {
     "name": "stderr",
     "output_type": "stream",
     "text": [
      "[Stage 19:=============================>                            (1 + 1) / 2]\r"
     ]
    },
    {
     "name": "stdout",
     "output_type": "stream",
     "text": [
      "+----------+---------+---------+---------+\n",
      "|product_id|max_price|avg_price|min_price|\n",
      "+----------+---------+---------+---------+\n",
      "|       496|    881.0|   281.19|     50.0|\n",
      "|       463|    589.0|    306.4|    111.0|\n",
      "|       471| 65901.11| 27692.07|   6000.0|\n",
      "|       243| 11936.51|  3557.27|  1411.76|\n",
      "|       392|  3847.08|  1000.81|   432.81|\n",
      "|        31|   659.32|   386.71|    275.8|\n",
      "|       451|  3911.52|   634.37|     61.0|\n",
      "|       137|  14937.7|  8117.33|  3328.29|\n",
      "|       251|  7155.84|  3403.97|   890.58|\n",
      "|       458|   183.77|    105.2|    57.99|\n",
      "|        65|  1319.07|   851.27|   597.38|\n",
      "|        53|   406.35|   196.31|    97.62|\n",
      "|       255|  3603.95|  1424.22|    643.6|\n",
      "|       481|  92600.0| 27064.82|  8468.47|\n",
      "|       296| 26666.99| 11591.51|   4709.8|\n",
      "|       133|    245.0|    88.32|    39.93|\n",
      "|       472|   935.25|   275.54|    106.0|\n",
      "|       322| 750167.4|556312.04|468359.28|\n",
      "|        78|  4932.42|  2143.22|   787.11|\n",
      "|       513|     50.0|     6.44|     2.45|\n",
      "+----------+---------+---------+---------+\n",
      "only showing top 20 rows\n",
      "\n"
     ]
    },
    {
     "name": "stderr",
     "output_type": "stream",
     "text": [
      "                                                                                \r"
     ]
    }
   ],
   "source": [
    "PriceStatDF.printSchema()\n",
    "PriceStatDF.show()"
   ]
  },
  {
   "cell_type": "code",
   "execution_count": 16,
   "metadata": {},
   "outputs": [
    {
     "name": "stderr",
     "output_type": "stream",
     "text": [
      "                                                                                \r"
     ]
    }
   ],
   "source": [
    "# Сохранение результата на hdfs\n",
    "(PriceStatDF\n",
    " .repartition(1)\n",
    " .write\n",
    " .mode(\"overwrite\")\n",
    " .option(\"header\", \"true\")\n",
    " .option(\"sep\", \";\")\n",
    " .csv(output_path1)\n",
    ")"
   ]
  },
  {
   "cell_type": "markdown",
   "metadata": {},
   "source": [
    "### Задание 2"
   ]
  },
  {
   "cell_type": "code",
   "execution_count": 17,
   "metadata": {},
   "outputs": [],
   "source": [
    "UserDF = (\n",
    "    spark.read\n",
    "        .option(\"header\", \"false\")\n",
    "        .option(\"sep\", \"\\t\")\n",
    "        .csv(demography_path)\n",
    ")\n",
    "\n",
    "CityRsDF = (\n",
    "    spark.read\n",
    "        .option(\"header\", \"false\")\n",
    "        .option(\"sep\", \"\\t\")\n",
    "        .csv(city_rs_path)\n",
    ")   "
   ]
  },
  {
   "cell_type": "code",
   "execution_count": 18,
   "metadata": {},
   "outputs": [
    {
     "name": "stdout",
     "output_type": "stream",
     "text": [
      "root\n",
      " |-- _c0: string (nullable = true)\n",
      " |-- _c1: string (nullable = true)\n",
      " |-- _c2: string (nullable = true)\n",
      " |-- _c3: string (nullable = true)\n",
      " |-- _c4: string (nullable = true)\n",
      " |-- _c5: string (nullable = true)\n",
      " |-- _c6: string (nullable = true)\n",
      "\n",
      "+--------+-------------+-----+---+-----------+-------+----+\n",
      "|     _c0|          _c1|  _c2|_c3|        _c4|    _c5| _c6|\n",
      "+--------+-------------+-----+---+-----------+-------+----+\n",
      "|16460783|1182885174073|  486|  2|10414533690|1078547|  85|\n",
      "|16467391|1176953226317| 4669|  2|10414533690|1384327|  85|\n",
      "|16467889|1169816093060| 6861|  2|10414533690|  33438|NULL|\n",
      "|16468013|1172074147460| 5360|  2|10415971874|4000749|   1|\n",
      "|16471027|1182034019343| 6311|  2|10414533690|3047069|  11|\n",
      "|16474162|1173115608560| 5567|  2|10414533690|3868434|  36|\n",
      "|16476386|1151057658677| 4351|  2|10414533690|3385314|  11|\n",
      "|16481067|1177305838543| 3831|  2|10414533690|1112209|  13|\n",
      "|16485965|1178801047573|-2369|  2|10415971874|2225871|  96|\n",
      "|16486027|1163679273840| 5864|  2|10397571399|3638536|  89|\n",
      "|16488894|1177581364790|12851|  2|10414533690|6165006|   1|\n",
      "|16490904|1181379905217| 1577|  2|10414533690|3385314|  11|\n",
      "|16492105|1178141986007| 5373|  1|10414533690|2658996|   2|\n",
      "|16494496|1151731681723| 4425|  2|10424076448|2288072|  61|\n",
      "|16496360|1169983003390|  411|  1|10414533690| 917969|  13|\n",
      "|16496406|1182349385770| 3267|  2|10414533690|1078547|  85|\n",
      "|16497160|1181805101140|-6594|  1|10414533690|3757378|NULL|\n",
      "|16502161|1176361948817| 4107|  2|10424076448|3870095|NULL|\n",
      "|16506301|1162468028300| 5609|  2|10414533690|1078547|  85|\n",
      "|16506809|1167156474853| 4359|  2|10414533690|3385314|NULL|\n",
      "+--------+-------------+-----+---+-----------+-------+----+\n",
      "only showing top 20 rows\n",
      "\n",
      "+--------+---+\n",
      "|     _c0|_c1|\n",
      "+--------+---+\n",
      "| 1000792|  1|\n",
      "| 6190119|  2|\n",
      "|  613013|  3|\n",
      "| 3100570|  4|\n",
      "| 4170694|  5|\n",
      "| 1270354|  6|\n",
      "| 3260868|  7|\n",
      "| 2270388|  8|\n",
      "|12101942|  9|\n",
      "| 3380088| 10|\n",
      "| 2390694| 11|\n",
      "| 4530796| 12|\n",
      "| 1600307| 13|\n",
      "| 3630145| 14|\n",
      "| 3610558| 15|\n",
      "| 2700384| 16|\n",
      "| 3850033| 17|\n",
      "| 1870640| 18|\n",
      "| 1071212| 19|\n",
      "| 4181225| 20|\n",
      "+--------+---+\n",
      "only showing top 20 rows\n",
      "\n"
     ]
    }
   ],
   "source": [
    "UserDF.printSchema()\n",
    "UserDF.show()\n",
    "CityRsDF.show()"
   ]
  },
  {
   "cell_type": "code",
   "execution_count": 19,
   "metadata": {},
   "outputs": [],
   "source": [
    "# Приводим типы и задаем названия полей.\n",
    "UserDF = (\n",
    "    UserDF\n",
    "    .select(\n",
    "        sf.col(\"_c0\").cast(IntegerType()).alias(\"id\"),\n",
    "        sf.col(\"_c1\").cast(LongType()).alias(\"create_date\"),\n",
    "        sf.col(\"_c2\").cast(LongType()).alias(\"birth_date\"),\n",
    "        sf.col(\"_c3\").cast(ByteType()).alias(\"gender\"),\n",
    "        sf.col(\"_c4\").cast(IntegerType()).alias(\"id_country\"),\n",
    "        sf.col(\"_c5\").cast(IntegerType()).alias(\"id_location\"),\n",
    "        sf.col(\"_c6\").cast(IntegerType()).alias(\"id_region\"),\n",
    "    )\n",
    ")\n",
    "CityRsDF = (\n",
    "    CityRsDF\n",
    "    .select(\n",
    "        sf.col(\"_c0\").cast(IntegerType()).alias(\"ok_city_id\"),\n",
    "        sf.col(\"_c1\").cast(IntegerType()).alias(\"rs_city_id\")\n",
    "    )\n",
    ")"
   ]
  },
  {
   "cell_type": "code",
   "execution_count": 20,
   "metadata": {},
   "outputs": [
    {
     "name": "stdout",
     "output_type": "stream",
     "text": [
      "root\n",
      " |-- id: integer (nullable = true)\n",
      " |-- create_date: long (nullable = true)\n",
      " |-- birth_date: long (nullable = true)\n",
      " |-- gender: byte (nullable = true)\n",
      " |-- id_country: integer (nullable = true)\n",
      " |-- id_location: integer (nullable = true)\n",
      " |-- id_region: integer (nullable = true)\n",
      "\n",
      "+--------+-------------+----------+------+----------+-----------+---------+\n",
      "|      id|  create_date|birth_date|gender|id_country|id_location|id_region|\n",
      "+--------+-------------+----------+------+----------+-----------+---------+\n",
      "|16460783|1182885174073|       486|     2|      NULL|    1078547|       85|\n",
      "|16467391|1176953226317|      4669|     2|      NULL|    1384327|       85|\n",
      "|16467889|1169816093060|      6861|     2|      NULL|      33438|     NULL|\n",
      "|16468013|1172074147460|      5360|     2|      NULL|    4000749|        1|\n",
      "|16471027|1182034019343|      6311|     2|      NULL|    3047069|       11|\n",
      "|16474162|1173115608560|      5567|     2|      NULL|    3868434|       36|\n",
      "|16476386|1151057658677|      4351|     2|      NULL|    3385314|       11|\n",
      "|16481067|1177305838543|      3831|     2|      NULL|    1112209|       13|\n",
      "|16485965|1178801047573|     -2369|     2|      NULL|    2225871|       96|\n",
      "|16486027|1163679273840|      5864|     2|      NULL|    3638536|       89|\n",
      "|16488894|1177581364790|     12851|     2|      NULL|    6165006|        1|\n",
      "|16490904|1181379905217|      1577|     2|      NULL|    3385314|       11|\n",
      "|16492105|1178141986007|      5373|     1|      NULL|    2658996|        2|\n",
      "|16494496|1151731681723|      4425|     2|      NULL|    2288072|       61|\n",
      "|16496360|1169983003390|       411|     1|      NULL|     917969|       13|\n",
      "|16496406|1182349385770|      3267|     2|      NULL|    1078547|       85|\n",
      "|16497160|1181805101140|     -6594|     1|      NULL|    3757378|     NULL|\n",
      "|16502161|1176361948817|      4107|     2|      NULL|    3870095|     NULL|\n",
      "|16506301|1162468028300|      5609|     2|      NULL|    1078547|       85|\n",
      "|16506809|1167156474853|      4359|     2|      NULL|    3385314|     NULL|\n",
      "+--------+-------------+----------+------+----------+-----------+---------+\n",
      "only showing top 20 rows\n",
      "\n",
      "+----------+----------+\n",
      "|ok_city_id|rs_city_id|\n",
      "+----------+----------+\n",
      "|   1000792|         1|\n",
      "|   6190119|         2|\n",
      "|    613013|         3|\n",
      "|   3100570|         4|\n",
      "|   4170694|         5|\n",
      "|   1270354|         6|\n",
      "|   3260868|         7|\n",
      "|   2270388|         8|\n",
      "|  12101942|         9|\n",
      "|   3380088|        10|\n",
      "|   2390694|        11|\n",
      "|   4530796|        12|\n",
      "|   1600307|        13|\n",
      "|   3630145|        14|\n",
      "|   3610558|        15|\n",
      "|   2700384|        16|\n",
      "|   3850033|        17|\n",
      "|   1870640|        18|\n",
      "|   1071212|        19|\n",
      "|   4181225|        20|\n",
      "+----------+----------+\n",
      "only showing top 20 rows\n",
      "\n"
     ]
    }
   ],
   "source": [
    "UserDF.printSchema()\n",
    "UserDF.show()\n",
    "CityRsDF.show()"
   ]
  },
  {
   "cell_type": "code",
   "execution_count": 21,
   "metadata": {},
   "outputs": [
    {
     "name": "stdout",
     "output_type": "stream",
     "text": [
      "+----------+-------+-------+\n",
      "|product_id|city_id|  price|\n",
      "+----------+-------+-------+\n",
      "|        34|    126| 684.46|\n",
      "|       416|    274|   NULL|\n",
      "|       338|     41|  12.81|\n",
      "|       399|    103|  250.0|\n",
      "|       319|    107| 513.21|\n",
      "|       478|    162|   NULL|\n",
      "|       402|    133|  155.0|\n",
      "|        41|    223|  81.07|\n",
      "|       208|    127|  495.6|\n",
      "|       179|    277| 752.81|\n",
      "|       216|    213| 164.65|\n",
      "|       270|     93|3982.27|\n",
      "|        66|     11|   NULL|\n",
      "|       376|    174| 219.88|\n",
      "|       486|    114|   NULL|\n",
      "|        82|    237| 106.43|\n",
      "|       287|    224| 374.16|\n",
      "|       502|    227| 389.81|\n",
      "|       241|    122|   NULL|\n",
      "|       233|    145|  64.04|\n",
      "+----------+-------+-------+\n",
      "only showing top 20 rows\n",
      "\n"
     ]
    }
   ],
   "source": [
    "PriceJoinedDF.show()"
   ]
  },
  {
   "cell_type": "code",
   "execution_count": 22,
   "metadata": {},
   "outputs": [
    {
     "name": "stdout",
     "output_type": "stream",
     "text": [
      "+----------+---------+---------+---------+\n",
      "|product_id|max_price|avg_price|min_price|\n",
      "+----------+---------+---------+---------+\n",
      "|       496|    881.0|   281.19|     50.0|\n",
      "|       463|    589.0|    306.4|    111.0|\n",
      "|       471| 65901.11| 27692.07|   6000.0|\n",
      "|       243| 11936.51|  3557.27|  1411.76|\n",
      "|       392|  3847.08|  1000.81|   432.81|\n",
      "|        31|   659.32|   386.71|    275.8|\n",
      "|       451|  3911.52|   634.37|     61.0|\n",
      "|       137|  14937.7|  8117.33|  3328.29|\n",
      "|       251|  7155.84|  3403.97|   890.58|\n",
      "|       458|   183.77|    105.2|    57.99|\n",
      "|        65|  1319.07|   851.27|   597.38|\n",
      "|        53|   406.35|   196.31|    97.62|\n",
      "|       255|  3603.95|  1424.22|    643.6|\n",
      "|       481|  92600.0| 27064.82|  8468.47|\n",
      "|       296| 26666.99| 11591.51|   4709.8|\n",
      "|       133|    245.0|    88.32|    39.93|\n",
      "|       472|   935.25|   275.54|    106.0|\n",
      "|       322| 750167.4|556312.04|468359.28|\n",
      "|        78|  4932.42|  2143.22|   787.11|\n",
      "|       513|     50.0|     6.44|     2.45|\n",
      "+----------+---------+---------+---------+\n",
      "only showing top 20 rows\n",
      "\n"
     ]
    }
   ],
   "source": [
    "PriceStatDF.show()"
   ]
  },
  {
   "cell_type": "code",
   "execution_count": 24,
   "metadata": {},
   "outputs": [],
   "source": [
    "# хотим видеть рядом с ценой еще и среднюю цену для сравнения, для этого такой join\n",
    "PricePriceStatDF = (\n",
    "    PriceDF.alias(\"left\")\n",
    "    .join(PriceStatDF, PriceDF.product_id == PriceStatDF.product_id, how='inner')\n",
    "        .select(\n",
    "            sf.col(\"left.product_id\"),\n",
    "            sf.col(\"city_id\"),\n",
    "            sf.col(\"price\"),\n",
    "            sf.col(\"avg_price\")\n",
    "        )\n",
    ")"
   ]
  },
  {
   "cell_type": "code",
   "execution_count": 25,
   "metadata": {},
   "outputs": [
    {
     "name": "stdout",
     "output_type": "stream",
     "text": [
      "root\n",
      " |-- product_id: integer (nullable = true)\n",
      " |-- city_id: integer (nullable = true)\n",
      " |-- price: float (nullable = true)\n",
      " |-- avg_price: double (nullable = true)\n",
      "\n"
     ]
    },
    {
     "name": "stderr",
     "output_type": "stream",
     "text": [
      "                                                                                \r"
     ]
    },
    {
     "name": "stdout",
     "output_type": "stream",
     "text": [
      "+----------+-------+------+---------+\n",
      "|product_id|city_id| price|avg_price|\n",
      "+----------+-------+------+---------+\n",
      "|       496|     89| 262.2|   281.19|\n",
      "|       496|    180|169.48|   281.19|\n",
      "|       496|    115|307.79|   281.19|\n",
      "|       496|    124|182.53|   281.19|\n",
      "|       496|     31|  NULL|   281.19|\n",
      "|       496|     39|  NULL|   281.19|\n",
      "|       496|    282| 559.0|   281.19|\n",
      "|       496|    222|306.19|   281.19|\n",
      "|       496|     41|  NULL|   281.19|\n",
      "|       496|     62|285.74|   281.19|\n",
      "|       496|    156|381.48|   281.19|\n",
      "|       496|    224|386.55|   281.19|\n",
      "|       496|    201| 376.7|   281.19|\n",
      "|       496|    200|565.34|   281.19|\n",
      "|       496|    145|315.39|   281.19|\n",
      "|       496|    217|  NULL|   281.19|\n",
      "|       496|      4|212.08|   281.19|\n",
      "|       496|     56|  NULL|   281.19|\n",
      "|       496|     26|269.59|   281.19|\n",
      "|       496|    203|411.81|   281.19|\n",
      "+----------+-------+------+---------+\n",
      "only showing top 20 rows\n",
      "\n"
     ]
    },
    {
     "data": {
      "text/plain": [
       "131776"
      ]
     },
     "execution_count": 25,
     "metadata": {},
     "output_type": "execute_result"
    }
   ],
   "source": [
    "PricePriceStatDF.printSchema()\n",
    "PricePriceStatDF.show()\n",
    "PricePriceStatDF.count()"
   ]
  },
  {
   "cell_type": "code",
   "execution_count": 26,
   "metadata": {},
   "outputs": [],
   "source": [
    "# выбираем теперь подходящие нам для статисктики города - в которых цена хоть на один продукт выше средней\n",
    "CitiesForStatDF = (\n",
    "    PricePriceStatDF.select(sf.col(\"city_id\").alias(\"rs_city_id\")).where(sf.col(\"price\") > sf.col(\"avg_price\")).distinct()\n",
    ")"
   ]
  },
  {
   "cell_type": "code",
   "execution_count": 27,
   "metadata": {},
   "outputs": [],
   "source": [
    "# добавляем названия городов\n",
    "CitiesForStatDF = (\n",
    "     CitiesForStatDF.alias(\"left\")\n",
    "    .join(CityDF, CitiesForStatDF.rs_city_id == CityDF.city_id, how='inner')\n",
    "        .select(\n",
    "            sf.col(\"left.rs_city_id\"),\n",
    "            sf.col(\"city\"),\n",
    "        )\n",
    ")"
   ]
  },
  {
   "cell_type": "code",
   "execution_count": 28,
   "metadata": {},
   "outputs": [
    {
     "name": "stderr",
     "output_type": "stream",
     "text": [
      "                                                                                \r"
     ]
    },
    {
     "name": "stdout",
     "output_type": "stream",
     "text": [
      "+----------+----------------+\n",
      "|rs_city_id|            city|\n",
      "+----------+----------------+\n",
      "|       148|     Стерлитамак|\n",
      "|       243|            Тара|\n",
      "|        31|         Люберцы|\n",
      "|       251|          Якутск|\n",
      "|        85|         Гатчина|\n",
      "|       137|      Карачаевск|\n",
      "|        65|    Петрозаводск|\n",
      "|       255|         Вилюйск|\n",
      "|        53|          Тамбов|\n",
      "|       133|        Малгобек|\n",
      "|        78|       Череповец|\n",
      "|       108|            Ялта|\n",
      "|       155|Набережные Челны|\n",
      "|        34|   Орехово-Зуево|\n",
      "|       193|    Екатеринбург|\n",
      "|       211|    Магнитогорск|\n",
      "|       115|       Астрахань|\n",
      "|       126|   г.Севастополь|\n",
      "|       101|          Майкоп|\n",
      "|        81|      Черняховск|\n",
      "+----------+----------------+\n",
      "only showing top 20 rows\n",
      "\n"
     ]
    }
   ],
   "source": [
    "CitiesForStatDF.show()"
   ]
  },
  {
   "cell_type": "code",
   "execution_count": 29,
   "metadata": {},
   "outputs": [
    {
     "name": "stderr",
     "output_type": "stream",
     "text": [
      "                                                                                \r"
     ]
    },
    {
     "name": "stdout",
     "output_type": "stream",
     "text": [
      "+----------+----------------+----------+\n",
      "|rs_city_id|            city|ok_city_id|\n",
      "+----------+----------------+----------+\n",
      "|       148|     Стерлитамак|    867411|\n",
      "|       243|            Тара|   1078547|\n",
      "|        31|         Люберцы|   1531654|\n",
      "|       251|          Якутск|   2368818|\n",
      "|        85|         Гатчина|    241372|\n",
      "|       137|      Карачаевск|  12141837|\n",
      "|        65|    Петрозаводск|    684283|\n",
      "|       255|         Вилюйск|   2568145|\n",
      "|        53|          Тамбов|   4332951|\n",
      "|       133|        Малгобек|  12140731|\n",
      "|        78|       Череповец|  12238521|\n",
      "|       108|            Ялта|  12243061|\n",
      "|       155|Набережные Челны|   3974068|\n",
      "|        34|   Орехово-Зуево|    364123|\n",
      "|       193|    Екатеринбург|   5176952|\n",
      "|       211|    Магнитогорск|   3996003|\n",
      "|       115|       Астрахань|  12146263|\n",
      "|       126|   г.Севастополь|  12141538|\n",
      "|       101|          Майкоп|   1024257|\n",
      "|        81|      Черняховск|   1363646|\n",
      "+----------+----------------+----------+\n",
      "only showing top 20 rows\n",
      "\n"
     ]
    }
   ],
   "source": [
    "# джоиним с rs_city для получения соотвествия id городов между OK и ROSSTAT\n",
    "CitiesForStatDF = (\n",
    "     CitiesForStatDF.alias(\"left\")\n",
    "    .join(CityRsDF, CitiesForStatDF.rs_city_id == CityRsDF.rs_city_id, how='inner')\n",
    "        .select(\n",
    "            sf.col(\"left.rs_city_id\"),\n",
    "            sf.col(\"city\"),\n",
    "            sf.col(\"ok_city_id\")\n",
    "        )\n",
    ")\n",
    "CitiesForStatDF.show()"
   ]
  },
  {
   "cell_type": "code",
   "execution_count": 30,
   "metadata": {},
   "outputs": [
    {
     "name": "stdout",
     "output_type": "stream",
     "text": [
      "+-----------+------+----------+\n",
      "|       city|gender|birth_date|\n",
      "+-----------+------+----------+\n",
      "|Стерлитамак|     2|      7386|\n",
      "|Стерлитамак|     1|     14099|\n",
      "|Стерлитамак|     2|      1873|\n",
      "|Стерлитамак|     2|      7017|\n",
      "|Стерлитамак|     2|       681|\n",
      "|Стерлитамак|     2|     -3617|\n",
      "|Стерлитамак|     2|      5584|\n",
      "|Стерлитамак|     2|      8792|\n",
      "|Стерлитамак|     2|       512|\n",
      "|Стерлитамак|     2|      4989|\n",
      "|Стерлитамак|     1|      2340|\n",
      "|Стерлитамак|     2|     11520|\n",
      "|Стерлитамак|     2|      7907|\n",
      "|Стерлитамак|     2|      7440|\n",
      "|Стерлитамак|     2|      8438|\n",
      "|Стерлитамак|     2|     10541|\n",
      "|Стерлитамак|     2|     10159|\n",
      "|Стерлитамак|     2|      9134|\n",
      "|Стерлитамак|     2|      5833|\n",
      "|Стерлитамак|     1|      7052|\n",
      "+-----------+------+----------+\n",
      "only showing top 20 rows\n",
      "\n"
     ]
    }
   ],
   "source": [
    "# теперь наконец можем делать join с таблицей user по полю id_location\n",
    "UserWithCityDF = (\n",
    "    UserDF.alias(\"left\")\n",
    "    .join(CitiesForStatDF, UserDF.id_location == CitiesForStatDF.ok_city_id, how='inner')\n",
    "        .select(\n",
    "            sf.col(\"city\"),\n",
    "            sf.col(\"gender\"),\n",
    "            sf.col(\"birth_date\"),\n",
    "    )\n",
    ")\n",
    "UserWithCityDF.show()"
   ]
  },
  {
   "cell_type": "code",
   "execution_count": 31,
   "metadata": {},
   "outputs": [
    {
     "name": "stderr",
     "output_type": "stream",
     "text": [
      "[Stage 94:>                                                         (0 + 1) / 1]\r"
     ]
    },
    {
     "name": "stdout",
     "output_type": "stream",
     "text": [
      "+-------------+--------+-------+-------+---------+---------+-----------+\n",
      "|    city_name|user_cnt|age_avg|men_cnt|women_cnt|men_share|women_share|\n",
      "+-------------+--------+-------+-------+---------+---------+-----------+\n",
      "|         Тара|   34829|     40|   8176|    26653|     0.23|       0.77|\n",
      "|      Городец|    4521|     40|   1412|     3112|     0.31|       0.69|\n",
      "|         Юрга|    2124|     46|    596|     1528|     0.28|       0.72|\n",
      "|       Волхов|    1963|     46|    477|     1486|     0.24|       0.76|\n",
      "|         Чита|    1755|     43|    220|     1535|     0.13|       0.87|\n",
      "|  Лесосибирск|    1245|     43|    255|      990|      0.2|        0.8|\n",
      "|Краснокаменск|     903|     42|    290|      613|     0.32|       0.68|\n",
      "|       Бердск|     845|     40|    279|      566|     0.33|       0.67|\n",
      "|       Бежецк|     740|     42|     69|      671|     0.09|       0.91|\n",
      "|        Певек|     676|     40|    194|      482|     0.29|       0.71|\n",
      "|       Рязань|     589|     42|    176|      413|      0.3|        0.7|\n",
      "|  Новокузнецк|     561|     44|    115|      446|      0.2|        0.8|\n",
      "|       Самара|     554|     41|    182|      372|     0.33|       0.67|\n",
      "| Магнитогорск|     539|     42|     65|      474|     0.12|       0.88|\n",
      "|      Сызрань|     529|     43|    127|      402|     0.24|       0.76|\n",
      "|      Грозный|     506|     41|    112|      394|     0.22|       0.78|\n",
      "|     Ноябрьск|     450|     41|     82|      368|     0.18|       0.82|\n",
      "|    Ахтубинск|     439|     41|    113|      326|     0.26|       0.74|\n",
      "|      Магадан|     425|     41|     98|      327|     0.23|       0.77|\n",
      "|   Буденновск|     416|     43|    131|      285|     0.31|       0.69|\n",
      "+-------------+--------+-------+-------+---------+---------+-----------+\n",
      "only showing top 20 rows\n",
      "\n"
     ]
    },
    {
     "name": "stderr",
     "output_type": "stream",
     "text": [
      "                                                                                \r"
     ]
    }
   ],
   "source": [
    "# теперь наконец считаем всю нужную статисктику\n",
    "ok_dem = (\n",
    "    UserWithCityDF.groupBy(sf.col(\"city\"))\n",
    "    .agg(\n",
    "        sf.count(sf.col(\"birth_date\")).alias(\"user_cnt\"),\n",
    "        sf.avg(sf.datediff(sf.lit(current_dt), sf.from_unixtime(sf.col(\"birth_date\") * 24 * 3600)) / 365.25).cast(IntegerType()).alias(\"age_avg\"),\n",
    "        sf.count(sf.when(sf.col(\"gender\") == 1, True)).alias(\"men_cnt\"),\n",
    "        sf.count(sf.when(sf.col(\"gender\") == 2, True)).alias(\"women_cnt\"),\n",
    "    )\n",
    "    .select(\n",
    "        sf.col(\"city\").alias(\"city_name\"),\n",
    "        sf.col(\"user_cnt\"),\n",
    "        sf.col(\"age_avg\"),\n",
    "        sf.col(\"men_cnt\"),\n",
    "        sf.col(\"women_cnt\"),\n",
    "        sf.round((sf.col(\"men_cnt\") / sf.col(\"user_cnt\")), 2).alias(\"men_share\"),\n",
    "        sf.round((sf.col(\"women_cnt\") / sf.col(\"user_cnt\")), 2).alias(\"women_share\")\n",
    "    )\n",
    "    .orderBy(sf.col(\"user_cnt\"), ascending=False)\n",
    ")\n",
    "ok_dem.show()"
   ]
  },
  {
   "cell_type": "code",
   "execution_count": 32,
   "metadata": {},
   "outputs": [],
   "source": [
    "# Сохранение результата на hdfs\n",
    "(ok_dem\n",
    " .repartition(1)\n",
    " .write\n",
    " .mode(\"overwrite\")\n",
    " .option(\"header\", \"true\")\n",
    " .option(\"sep\", \";\")\n",
    " .csv(output_path2)\n",
    ")"
   ]
  },
  {
   "cell_type": "markdown",
   "metadata": {},
   "source": [
    "### Задание 3"
   ]
  },
  {
   "cell_type": "code",
   "execution_count": 33,
   "metadata": {},
   "outputs": [
    {
     "name": "stderr",
     "output_type": "stream",
     "text": [
      "                                                                                \r"
     ]
    }
   ],
   "source": [
    "# найдем нужые значения\n",
    "vals_for_stat = ok_dem.agg(\n",
    "        sf.max(sf.col(\"age_avg\")),\n",
    "        sf.min(sf.col(\"age_avg\")),\n",
    "        sf.max(sf.col(\"men_share\")),\n",
    "        sf.max(sf.col(\"women_share\"))).collect()[0]\n"
   ]
  },
  {
   "cell_type": "code",
   "execution_count": 34,
   "metadata": {},
   "outputs": [
    {
     "name": "stdout",
     "output_type": "stream",
     "text": [
      "+------------+\n",
      "|   city_name|\n",
      "+------------+\n",
      "|Новороссийск|\n",
      "| Симферополь|\n",
      "|      Тихвин|\n",
      "|      Казань|\n",
      "+------------+\n",
      "\n"
     ]
    }
   ],
   "source": [
    "# теперь выберем города под эти значения\n",
    "CitiesForStatDF = (\n",
    "    ok_dem.where( (sf.col(\"age_avg\") == vals_for_stat[0]) | \n",
    "                    (sf.col(\"age_avg\") == vals_for_stat[1]) |\n",
    "                    (sf.col(\"men_share\") == vals_for_stat[2]) |\n",
    "                    (sf.col(\"women_share\") == vals_for_stat[3]))\n",
    "    .select(sf.col(\"city_name\"))\n",
    ")\n",
    "CitiesForStatDF.show()"
   ]
  },
  {
   "cell_type": "code",
   "execution_count": 35,
   "metadata": {},
   "outputs": [
    {
     "name": "stdout",
     "output_type": "stream",
     "text": [
      "+-------+------------+\n",
      "|city_id|        city|\n",
      "+-------+------------+\n",
      "|    105| Симферополь|\n",
      "|    112|Новороссийск|\n",
      "|    153|      Казань|\n",
      "|     88|      Тихвин|\n",
      "+-------+------------+\n",
      "\n"
     ]
    }
   ],
   "source": [
    "# добавим id городов\n",
    "CitiesForStatDF = (\n",
    "    CitiesForStatDF.alias(\"left\")\n",
    "    .join(CityDF, CitiesForStatDF.city_name == CityDF.city, how='inner')\n",
    "        .select(\n",
    "            sf.col(\"city_id\"),\n",
    "            sf.col(\"city\"),\n",
    "    )\n",
    ")\n",
    "CitiesForStatDF.show()"
   ]
  },
  {
   "cell_type": "code",
   "execution_count": 36,
   "metadata": {},
   "outputs": [
    {
     "name": "stdout",
     "output_type": "stream",
     "text": [
      "+-------+-----------+----------+-------+\n",
      "|city_id|       city|product_id|  price|\n",
      "+-------+-----------+----------+-------+\n",
      "|    105|Симферополь|       428|   NULL|\n",
      "|    105|Симферополь|       512|  350.0|\n",
      "|    105|Симферополь|       392|1069.12|\n",
      "|    105|Симферополь|       454| 120.18|\n",
      "|    105|Симферополь|       384|  13.06|\n",
      "|    105|Симферополь|       348|  30.87|\n",
      "|    105|Симферополь|       290|6117.42|\n",
      "|    105|Симферополь|        36|1032.97|\n",
      "|    105|Симферополь|        27|2201.38|\n",
      "|    105|Симферополь|       126| 431.85|\n",
      "|    105|Симферополь|        73| 873.73|\n",
      "|    105|Симферополь|         2| 185.74|\n",
      "|    105|Симферополь|        49| 501.73|\n",
      "|    105|Симферополь|       361|  10.43|\n",
      "|    105|Симферополь|       260| 712.37|\n",
      "|    105|Симферополь|       442|  13.67|\n",
      "|    105|Симферополь|       455|  84.33|\n",
      "|    105|Симферополь|       430|   4.17|\n",
      "|    105|Симферополь|       188| 169.65|\n",
      "|    105|Симферополь|       478| 379.53|\n",
      "+-------+-----------+----------+-------+\n",
      "only showing top 20 rows\n",
      "\n"
     ]
    }
   ],
   "source": [
    "# добавим продукты и цены на них\n",
    "CitiesForStatPricesDF = (\n",
    "    CitiesForStatDF.alias(\"left\")\n",
    "    .join(PriceJoinedDF, CitiesForStatDF.city_id == PriceDF.city_id, how='inner')\n",
    "        .select(\n",
    "            sf.col(\"left.city_id\"),\n",
    "            sf.col(\"city\"),\n",
    "            sf.col(\"product_id\"),\n",
    "            sf.col(\"price\")\n",
    "    )\n",
    ")\n",
    "CitiesForStatPricesDF.show()"
   ]
  },
  {
   "cell_type": "code",
   "execution_count": 37,
   "metadata": {},
   "outputs": [
    {
     "name": "stdout",
     "output_type": "stream",
     "text": [
      "+-------+-----------+--------------------+\n",
      "|  price|  city_name|             product|\n",
      "+-------+-----------+--------------------+\n",
      "|   NULL|Симферополь|Предоставление ме...|\n",
      "|  350.0|Симферополь|Повторное получен...|\n",
      "|1069.12|Симферополь|Регулировка разва...|\n",
      "| 120.18|Симферополь|Водоснабжение гор...|\n",
      "|  13.06|Симферополь|Земля для растени...|\n",
      "|  30.87|Симферополь|Амброксол, 30 мг,...|\n",
      "|6117.42|Симферополь|Велосипед для дош...|\n",
      "|1032.97|Симферополь|  Масло оливковое, л|\n",
      "|2201.38|Симферополь|Соленые и копчены...|\n",
      "| 431.85|Симферополь|Обед в столовой, ...|\n",
      "| 873.73|Симферополь|Чай черный байхов...|\n",
      "| 185.74|Симферополь|Пельмени, манты, ...|\n",
      "| 501.73|Симферополь|  Сыры плавленые, кг|\n",
      "|  10.43|Симферополь|Сеннозиды А и B, ...|\n",
      "| 712.37|Симферополь| Часы будильник, шт.|\n",
      "|  13.67|Симферополь|Содержание, ремон...|\n",
      "|  84.33|Симферополь|Газ сетевой, меся...|\n",
      "|   4.17|Симферополь|Предоставление ме...|\n",
      "| 169.65|Симферополь|  Трусы детские, шт.|\n",
      "| 379.53|Симферополь|       Театры, билет|\n",
      "+-------+-----------+--------------------+\n",
      "only showing top 20 rows\n",
      "\n"
     ]
    }
   ],
   "source": [
    "# добавим названия продуктов\n",
    "CitiesForStatPricesDF = (\n",
    "    CitiesForStatPricesDF.alias(\"left\")\n",
    "    .join(ProductDF, CitiesForStatPricesDF.product_id == ProductDF.product_id, how='inner')\n",
    "        .select(\n",
    "            sf.col(\"price\"),\n",
    "            sf.col(\"city\").alias(\"city_name\"),\n",
    "            sf.col(\"product\")\n",
    "    )\n",
    ")\n",
    "CitiesForStatPricesDF.show()"
   ]
  },
  {
   "cell_type": "code",
   "execution_count": 38,
   "metadata": {},
   "outputs": [
    {
     "name": "stdout",
     "output_type": "stream",
     "text": [
      "+--------+---------+--------------------+-----+---------+\n",
      "|   price|city_name|             product|cheap|expensive|\n",
      "+--------+---------+--------------------+-----+---------+\n",
      "|    NULL|   Казань|Газ сжиженный, ме...|  0.7| 909922.5|\n",
      "|  167.64|   Казань|Панталоны, трусы ...|  0.7| 909922.5|\n",
      "|   28.72|   Казань|Мыло хозяйственно...|  0.7| 909922.5|\n",
      "|    NULL|   Казань|Бензин автомобильный|  0.7| 909922.5|\n",
      "|    NULL|   Казань|Экскурсионная пое...|  0.7| 909922.5|\n",
      "|  578.04|   Казань|           Какао, кг|  0.7| 909922.5|\n",
      "|13649.88|   Казань|Шкаф для платья и...|  0.7| 909922.5|\n",
      "|  386.05|   Казань|Ткань платьевая и...|  0.7| 909922.5|\n",
      "| 3217.43|   Казань|Куртка женская бе...|  0.7| 909922.5|\n",
      "|  860.93|   Казань|Выполнение работ ...|  0.7| 909922.5|\n",
      "|  366.07|   Казань|     Маникюр, услуга|  0.7| 909922.5|\n",
      "| 3007.19|   Казань|Шины для легковог...|  0.7| 909922.5|\n",
      "|14577.38|   Казань|Обучение в негосу...|  0.7| 909922.5|\n",
      "|  343.93|   Казань|Вино виноградное ...|  0.7| 909922.5|\n",
      "|   51.33|   Казань|Бромгексин, 8 мг,...|  0.7| 909922.5|\n",
      "|17916.08|   Казань|  Плита бытовая, шт.|  0.7| 909922.5|\n",
      "|   46.43|   Казань|Молоко питьевое ц...|  0.7| 909922.5|\n",
      "|  421.27|   Казань|Национальные сыры...|  0.7| 909922.5|\n",
      "|  179.97|   Казань|Сухие корма для д...|  0.7| 909922.5|\n",
      "|    3.86|   Казань|Ксерокопирование ...|  0.7| 909922.5|\n",
      "+--------+---------+--------------------+-----+---------+\n",
      "only showing top 20 rows\n",
      "\n"
     ]
    }
   ],
   "source": [
    "from pyspark.sql.window import Window\n",
    "# найдем максимальную и минимальную цену в каждом городе\n",
    "product_stat = (\n",
    "    CitiesForStatPricesDF\n",
    "    .withColumn(\"cheap\", sf.min(\"price\").over(Window.partitionBy(\"city_name\")))\n",
    "    .withColumn(\"expensive\", sf.max(\"price\").over(Window.partitionBy(\"city_name\")))\n",
    ")\n",
    "product_stat.show()        "
   ]
  },
  {
   "cell_type": "code",
   "execution_count": 39,
   "metadata": {},
   "outputs": [
    {
     "name": "stdout",
     "output_type": "stream",
     "text": [
      "+------------+---------------------------+---------------------+----------------+\n",
      "|   city_name|most_expensive_product_name|cheapest_product_name|price_difference|\n",
      "+------------+---------------------------+---------------------+----------------+\n",
      "|      Казань|       Легковой автомоби...| Предоставление ме...|        909921.8|\n",
      "|Новороссийск|       Холодильник двухк...| Предоставление ме...|        32119.72|\n",
      "| Симферополь|       Легковой автомоби...|      Спички, коробок|        790489.3|\n",
      "|      Тихвин|       Легковой автомоби...| Предоставление ме...|       619285.94|\n",
      "+------------+---------------------------+---------------------+----------------+\n",
      "\n"
     ]
    }
   ],
   "source": [
    "# считаем финальную статистику\n",
    "product_stat = (\n",
    "    product_stat\n",
    "    .select(\n",
    "        sf.col(\"city_name\"),\n",
    "        sf.col(\"price\"),\n",
    "        sf.when(sf.col(\"price\") == sf.col(\"cheap\"), sf.col(\"product\")).alias(\"cheapest_product_name\"),\n",
    "        sf.when(sf.col(\"price\") == sf.col(\"expensive\"), sf.col(\"product\")).alias(\"most_expensive_product_name\"),\n",
    "        (sf.col(\"expensive\") - sf.col(\"cheap\")).alias(\"price_difference\")\n",
    "    )\n",
    "    .where( (sf.col(\"cheapest_product_name\").isNotNull()) | (sf.col(\"most_expensive_product_name\").isNotNull()))\n",
    "    .groupBy(\n",
    "        sf.col(\"city_name\")\n",
    "    )\n",
    "    .agg (\n",
    "        sf.last(sf.col(\"most_expensive_product_name\"), True).alias(\"most_expensive_product_name\"),\n",
    "        sf.last(sf.col(\"cheapest_product_name\"), True).alias(\"cheapest_product_name\"),\n",
    "        sf.last(\"price_difference\", True).alias('price_difference')\n",
    "    )\n",
    ")\n",
    "product_stat.show()"
   ]
  },
  {
   "cell_type": "code",
   "execution_count": 40,
   "metadata": {},
   "outputs": [],
   "source": [
    "# сохраняем результаты\n",
    "(product_stat\n",
    " .repartition(1)\n",
    " .write\n",
    " .mode(\"overwrite\")\n",
    " .option(\"header\", \"true\")\n",
    " .option(\"sep\", \";\")\n",
    " .csv(output_path3)\n",
    ")"
   ]
  },
  {
   "cell_type": "code",
   "execution_count": 50,
   "metadata": {},
   "outputs": [
    {
     "name": "stdout",
     "output_type": "stream",
     "text": [
      "root\n",
      " |-- product_id: integer (nullable = true)\n",
      " |-- max_price: float (nullable = true)\n",
      " |-- avg_price: float (nullable = true)\n",
      " |-- min_price: float (nullable = true)\n",
      "\n",
      "+----------+---------+---------+---------+\n",
      "|product_id|max_price|avg_price|min_price|\n",
      "+----------+---------+---------+---------+\n",
      "|       471| 65901.11| 27692.07|   6000.0|\n",
      "|       496|    881.0|   281.19|     50.0|\n",
      "|       463|    589.0|    306.4|    111.0|\n",
      "|       392|  3847.08|  1000.81|   432.81|\n",
      "|       243| 11936.51|  3557.27|  1411.76|\n",
      "|        31|   659.32|   386.71|    275.8|\n",
      "|       451|  3911.52|   634.37|     61.0|\n",
      "|       137|  14937.7|  8117.33|  3328.29|\n",
      "|       251|  7155.84|  3403.97|   890.58|\n",
      "|        65|  1319.07|   851.27|   597.38|\n",
      "|       458|   183.77|    105.2|    57.99|\n",
      "|       255|  3603.95|  1424.22|    643.6|\n",
      "|        53|   406.35|   196.31|    97.62|\n",
      "|       481|  92600.0| 27064.82|  8468.47|\n",
      "|       472|   935.25|   275.54|    106.0|\n",
      "|       133|    245.0|    88.32|    39.93|\n",
      "|       296| 26666.99| 11591.51|   4709.8|\n",
      "|       322| 750167.4|556312.06|468359.28|\n",
      "|        78|  4932.42|  2143.22|   787.11|\n",
      "|       513|     50.0|     6.44|     2.45|\n",
      "+----------+---------+---------+---------+\n",
      "only showing top 20 rows\n",
      "\n"
     ]
    }
   ],
   "source": [
    "price_stat_path = \"/user/a.marchenko/task4/price_stat/\"\n",
    "PriceStatDF = spark.read.option(\"header\", \"true\").csv(price_stat_path, sep=';')\n",
    "PriceStatDF = (\n",
    "    PriceStatDF\n",
    "    .select(\n",
    "        sf.col(\"product_id\").cast(IntegerType()),\n",
    "        sf.col(\"max_price\").cast(FloatType()),\n",
    "        sf.col(\"avg_price\").cast(FloatType()),\n",
    "        sf.col(\"min_price\").cast(FloatType())\n",
    "    )\n",
    ")\n",
    "PriceStatDF.printSchema()\n",
    "PriceStatDF.show()"
   ]
  },
  {
   "cell_type": "code",
   "execution_count": null,
   "metadata": {},
   "outputs": [],
   "source": []
  },
  {
   "cell_type": "code",
   "execution_count": 51,
   "metadata": {},
   "outputs": [],
   "source": [
    "# После работы обязательно отключаем спарк и отдаем ресурсы!\n",
    "spark.stop()"
   ]
  },
  {
   "cell_type": "code",
   "execution_count": null,
   "metadata": {},
   "outputs": [],
   "source": []
  }
 ],
 "metadata": {
  "kernelspec": {
   "display_name": "Python 3 (ipykernel)",
   "language": "python",
   "name": "python3"
  },
  "language_info": {
   "codemirror_mode": {
    "name": "ipython",
    "version": 3
   },
   "file_extension": ".py",
   "mimetype": "text/x-python",
   "name": "python",
   "nbconvert_exporter": "python",
   "pygments_lexer": "ipython3",
   "version": "3.10.13"
  }
 },
 "nbformat": 4,
 "nbformat_minor": 4
}
